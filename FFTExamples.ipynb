{
 "cells": [
  {
   "cell_type": "code",
   "execution_count": 1,
   "metadata": {},
   "outputs": [
    {
     "name": "stderr",
     "output_type": "stream",
     "text": [
      "┌ Info: Recompiling stale cache file /Users/wfarr/.julia/compiled/v1.2/JuliaFFT/Ta8Dq.ji for JuliaFFT [58eb6a7f-78fe-4bda-ae9c-fba74f78ab46]\n",
      "└ @ Base loading.jl:1240\n"
     ]
    }
   ],
   "source": [
    "using JuliaFFT"
   ]
  },
  {
   "cell_type": "markdown",
   "metadata": {},
   "source": [
    "We know that the FT of a delta-function is a constant!"
   ]
  },
  {
   "cell_type": "code",
   "execution_count": 2,
   "metadata": {},
   "outputs": [
    {
     "data": {
      "text/plain": [
       "4-element Array{Complex{Float64},1}:\n",
       " 1.0 + 0.0im\n",
       " 1.0 - 0.0im\n",
       " 1.0 + 0.0im\n",
       " 1.0 + 0.0im"
      ]
     },
     "execution_count": 2,
     "metadata": {},
     "output_type": "execute_result"
    }
   ],
   "source": [
    "fft([1.0, 0.0, 0.0, 0.0])"
   ]
  },
  {
   "cell_type": "markdown",
   "metadata": {},
   "source": [
    "We know that \n",
    "$$\n",
    "\\int \\mathrm{d} t \\, \\exp\\left[ - 2 \\pi i f t \\right] g(t-\\tau) = \\exp\\left[ - 2 \\pi i f \\tau\\right] \\int \\mathrm{d} t \\, \\exp\\left[ -2 \\pi i f t \\right] g(t) = \\exp\\left[ - 2 \\pi i f \\tau\\right] \\hat{g}(f)\n",
    "$$\n",
    "In words: a time-shift corresponds to a frequency-dependent phase shift in the FT.  This checks out for the delta-function:"
   ]
  },
  {
   "cell_type": "code",
   "execution_count": 9,
   "metadata": {},
   "outputs": [
    {
     "name": "stdout",
     "output_type": "stream",
     "text": [
      "FT of time-shifted delta function: Complex{Float64}[1.0 + 0.0im, 6.123233995736766e-17 - 1.0im, -1.0 + 0.0im, -6.123233995736766e-17 + 1.0im]\n",
      "exp(-2*pi*i*f): Complex{Float64}[1.0 - 0.0im, 6.123233995736766e-17 - 1.0im, -1.0 - 1.2246467991473532e-16im, -1.8369701987210297e-16 + 1.0im]\n"
     ]
    }
   ],
   "source": [
    "println(\"FT of time-shifted delta function: $(fft([0.0, 1.0, 0.0, 0.0]))\")\n",
    "println(\"exp(-2*pi*i*f): $(exp.(-2*pi*1im.*collect(0:3)./4))\")"
   ]
  },
  {
   "cell_type": "markdown",
   "metadata": {},
   "source": [
    "We know that the FT of a maximum frequency sinusoid has a single component at the Nyquist frequency:"
   ]
  },
  {
   "cell_type": "code",
   "execution_count": 10,
   "metadata": {},
   "outputs": [
    {
     "data": {
      "text/plain": [
       "8-element Array{Complex{Float64},1}:\n",
       " 0.0 + 0.0im\n",
       " 0.0 + 0.0im\n",
       " 0.0 + 0.0im\n",
       " 0.0 + 0.0im\n",
       " 8.0 + 0.0im\n",
       " 0.0 - 0.0im\n",
       " 0.0 + 0.0im\n",
       " 0.0 + 0.0im"
      ]
     },
     "execution_count": 10,
     "metadata": {},
     "output_type": "execute_result"
    }
   ],
   "source": [
    "fft([1.0, -1.0, 1.0, -1.0, 1.0, -1.0, 1.0, -1.0])"
   ]
  },
  {
   "cell_type": "markdown",
   "metadata": {},
   "source": [
    "Our implementation is $N \\log N$ complexity (the below would be $\\mathcal{O}\\left( 10^{12} \\right)$ operations if it were $N^2$!):"
   ]
  },
  {
   "cell_type": "code",
   "execution_count": 11,
   "metadata": {},
   "outputs": [
    {
     "name": "stdout",
     "output_type": "stream",
     "text": [
      "  2.588376 seconds (14.68 M allocations: 1.617 GiB, 10.01% gc time)\n"
     ]
    },
    {
     "data": {
      "text/plain": [
       "1048576-element Array{Complex{Float64},1}:\n",
       " -17.680026014464715 + 0.0im               \n",
       "   350.3463669366042 + 398.05781351336657im\n",
       "  -779.1360168256263 + 75.97084561010479im \n",
       "   -936.264908394552 + 136.97920102915103im\n",
       " -333.61452327201084 + 470.699346815746im  \n",
       "  510.86016709139443 - 283.16261197950627im\n",
       "  1042.8777982530517 + 95.9313330097491im  \n",
       "  -322.0735225725798 - 449.39643081727115im\n",
       "  -901.8258438821151 - 203.2221513252088im \n",
       "   -195.820317643988 + 931.2552171659862im \n",
       " -22.066991759258514 + 1075.6491223189719im\n",
       "   752.4361955083031 + 657.4278496699424im \n",
       "  -307.4779092980719 - 388.91750526364757im\n",
       "                     ⋮                     \n",
       "  -307.4779092980722 + 388.9175052636476im \n",
       "   752.4361955083043 - 657.4278496699415im \n",
       " -22.066991759257064 - 1075.6491223189719im\n",
       " -195.82031764398712 - 931.2552171659863im \n",
       "  -901.8258438821155 + 203.22215132520807im\n",
       " -322.07352257258015 + 449.39643081727155im\n",
       "  1042.8777982530512 - 95.93133300974779im \n",
       "    510.860167091394 + 283.1626119795071im \n",
       "  -333.6145232720098 - 470.6993468157468im \n",
       "  -936.2649083945521 - 136.97920102915197im\n",
       "  -779.1360168256265 - 75.97084561010581im \n",
       "  350.34636693660536 - 398.0578135133663im "
      ]
     },
     "execution_count": 11,
     "metadata": {},
     "output_type": "execute_result"
    }
   ],
   "source": [
    "@time fft(randn(1<<20))"
   ]
  },
  {
   "cell_type": "code",
   "execution_count": null,
   "metadata": {},
   "outputs": [],
   "source": []
  }
 ],
 "metadata": {
  "kernelspec": {
   "display_name": "Julia 1.2.0",
   "language": "julia",
   "name": "julia-1.2"
  },
  "language_info": {
   "file_extension": ".jl",
   "mimetype": "application/julia",
   "name": "julia",
   "version": "1.2.0"
  }
 },
 "nbformat": 4,
 "nbformat_minor": 2
}
